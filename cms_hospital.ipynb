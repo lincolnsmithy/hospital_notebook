{
 "cells": [
  {
   "cell_type": "code",
   "id": "initial_id",
   "metadata": {
    "collapsed": true,
    "ExecuteTime": {
     "end_time": "2025-10-24T16:36:03.735432Z",
     "start_time": "2025-10-24T16:35:46.622606Z"
    }
   },
   "source": "pip install pandas",
   "outputs": [
    {
     "name": "stdout",
     "output_type": "stream",
     "text": [
      "Collecting pandas\r\n",
      "  Using cached pandas-2.3.3-cp312-cp312-macosx_10_13_x86_64.whl.metadata (91 kB)\r\n",
      "Collecting numpy>=1.26.0 (from pandas)\r\n",
      "  Using cached numpy-2.3.4-cp312-cp312-macosx_14_0_x86_64.whl.metadata (62 kB)\r\n",
      "Requirement already satisfied: python-dateutil>=2.8.2 in ./.venv/lib/python3.12/site-packages (from pandas) (2.9.0.post0)\r\n",
      "Collecting pytz>=2020.1 (from pandas)\r\n",
      "  Using cached pytz-2025.2-py2.py3-none-any.whl.metadata (22 kB)\r\n",
      "Requirement already satisfied: tzdata>=2022.7 in ./.venv/lib/python3.12/site-packages (from pandas) (2025.2)\r\n",
      "Requirement already satisfied: six>=1.5 in ./.venv/lib/python3.12/site-packages (from python-dateutil>=2.8.2->pandas) (1.17.0)\r\n",
      "Using cached pandas-2.3.3-cp312-cp312-macosx_10_13_x86_64.whl (11.6 MB)\r\n",
      "Using cached numpy-2.3.4-cp312-cp312-macosx_14_0_x86_64.whl (6.6 MB)\r\n",
      "Using cached pytz-2025.2-py2.py3-none-any.whl (509 kB)\r\n",
      "Installing collected packages: pytz, numpy, pandas\r\n",
      "Successfully installed numpy-2.3.4 pandas-2.3.3 pytz-2025.2\r\n",
      "\r\n",
      "\u001B[1m[\u001B[0m\u001B[34;49mnotice\u001B[0m\u001B[1;39;49m]\u001B[0m\u001B[39;49m A new release of pip is available: \u001B[0m\u001B[31;49m25.0.1\u001B[0m\u001B[39;49m -> \u001B[0m\u001B[32;49m25.2\u001B[0m\r\n",
      "\u001B[1m[\u001B[0m\u001B[34;49mnotice\u001B[0m\u001B[1;39;49m]\u001B[0m\u001B[39;49m To update, run: \u001B[0m\u001B[32;49mpip install --upgrade pip\u001B[0m\r\n",
      "Note: you may need to restart the kernel to use updated packages.\n"
     ]
    }
   ],
   "execution_count": 1
  },
  {
   "metadata": {
    "ExecuteTime": {
     "end_time": "2025-10-24T16:39:40.567523Z",
     "start_time": "2025-10-24T16:39:40.558491Z"
    }
   },
   "cell_type": "code",
   "source": "import pandas as pd",
   "id": "ce3c39346b1969a2",
   "outputs": [],
   "execution_count": 5
  },
  {
   "metadata": {
    "ExecuteTime": {
     "end_time": "2025-10-24T16:39:50.636666Z",
     "start_time": "2025-10-24T16:39:49.834241Z"
    }
   },
   "cell_type": "code",
   "source": [
    "#columns I care about\n",
    "desired_columns = ['PRVDR_NUM', 'STATE_CD', 'PRVDR_CTGRY_CD', 'CITY_NAME', 'ZIP_CD', 'ST_ADR', 'ELGBLTY_SW']\n",
    "# Read the data\n",
    "df = pd.read_csv(\"data/Hospital_and_Other_data_Q2_2025.csv\", usecols=desired_columns)\n",
    "\n",
    "display(df.head())\n"
   ],
   "id": "e2c1044156ff70f7",
   "outputs": [
    {
     "name": "stderr",
     "output_type": "stream",
     "text": [
      "/var/folders/25/vhn5yn_n27v4mvyt1j_qgcjh0000gn/T/ipykernel_77860/3668852093.py:4: DtypeWarning: Columns (17) have mixed types. Specify dtype option on import or set low_memory=False.\n",
      "  df = pd.read_csv(\"data/Hospital_and_Other_data_Q2_2025.csv\", usecols=desired_columns)\n"
     ]
    },
    {
     "data": {
      "text/plain": [
       "   PRVDR_CTGRY_CD   CITY_NAME ELGBLTY_SW PRVDR_NUM STATE_CD  \\\n",
       "0               1      DOTHAN          Y    010001       AL   \n",
       "1               1  BRIDGEPORT          N    010004       AL   \n",
       "2               1        BOAZ          Y    010005       AL   \n",
       "3               1    FLORENCE          Y    010006       AL   \n",
       "4               1         OPP          Y    010007       AL   \n",
       "\n",
       "                       ST_ADR   ZIP_CD  \n",
       "0      1108 ROSS CLARK CIRCLE  36301.0  \n",
       "1        47005 U S HIGHWAY 72  35740.0  \n",
       "2  2505 U S HIGHWAY 431 NORTH  35957.0  \n",
       "3         1701 VETERANS DRIVE  35630.0  \n",
       "4               702 N MAIN ST  36467.0  "
      ],
      "text/html": [
       "<div>\n",
       "<style scoped>\n",
       "    .dataframe tbody tr th:only-of-type {\n",
       "        vertical-align: middle;\n",
       "    }\n",
       "\n",
       "    .dataframe tbody tr th {\n",
       "        vertical-align: top;\n",
       "    }\n",
       "\n",
       "    .dataframe thead th {\n",
       "        text-align: right;\n",
       "    }\n",
       "</style>\n",
       "<table border=\"1\" class=\"dataframe\">\n",
       "  <thead>\n",
       "    <tr style=\"text-align: right;\">\n",
       "      <th></th>\n",
       "      <th>PRVDR_CTGRY_CD</th>\n",
       "      <th>CITY_NAME</th>\n",
       "      <th>ELGBLTY_SW</th>\n",
       "      <th>PRVDR_NUM</th>\n",
       "      <th>STATE_CD</th>\n",
       "      <th>ST_ADR</th>\n",
       "      <th>ZIP_CD</th>\n",
       "    </tr>\n",
       "  </thead>\n",
       "  <tbody>\n",
       "    <tr>\n",
       "      <th>0</th>\n",
       "      <td>1</td>\n",
       "      <td>DOTHAN</td>\n",
       "      <td>Y</td>\n",
       "      <td>010001</td>\n",
       "      <td>AL</td>\n",
       "      <td>1108 ROSS CLARK CIRCLE</td>\n",
       "      <td>36301.0</td>\n",
       "    </tr>\n",
       "    <tr>\n",
       "      <th>1</th>\n",
       "      <td>1</td>\n",
       "      <td>BRIDGEPORT</td>\n",
       "      <td>N</td>\n",
       "      <td>010004</td>\n",
       "      <td>AL</td>\n",
       "      <td>47005 U S HIGHWAY 72</td>\n",
       "      <td>35740.0</td>\n",
       "    </tr>\n",
       "    <tr>\n",
       "      <th>2</th>\n",
       "      <td>1</td>\n",
       "      <td>BOAZ</td>\n",
       "      <td>Y</td>\n",
       "      <td>010005</td>\n",
       "      <td>AL</td>\n",
       "      <td>2505 U S HIGHWAY 431 NORTH</td>\n",
       "      <td>35957.0</td>\n",
       "    </tr>\n",
       "    <tr>\n",
       "      <th>3</th>\n",
       "      <td>1</td>\n",
       "      <td>FLORENCE</td>\n",
       "      <td>Y</td>\n",
       "      <td>010006</td>\n",
       "      <td>AL</td>\n",
       "      <td>1701 VETERANS DRIVE</td>\n",
       "      <td>35630.0</td>\n",
       "    </tr>\n",
       "    <tr>\n",
       "      <th>4</th>\n",
       "      <td>1</td>\n",
       "      <td>OPP</td>\n",
       "      <td>Y</td>\n",
       "      <td>010007</td>\n",
       "      <td>AL</td>\n",
       "      <td>702 N MAIN ST</td>\n",
       "      <td>36467.0</td>\n",
       "    </tr>\n",
       "  </tbody>\n",
       "</table>\n",
       "</div>"
      ]
     },
     "metadata": {},
     "output_type": "display_data"
    }
   ],
   "execution_count": 6
  }
 ],
 "metadata": {
  "kernelspec": {
   "display_name": "Python 3",
   "language": "python",
   "name": "python3"
  },
  "language_info": {
   "codemirror_mode": {
    "name": "ipython",
    "version": 2
   },
   "file_extension": ".py",
   "mimetype": "text/x-python",
   "name": "python",
   "nbconvert_exporter": "python",
   "pygments_lexer": "ipython2",
   "version": "2.7.6"
  }
 },
 "nbformat": 4,
 "nbformat_minor": 5
}
