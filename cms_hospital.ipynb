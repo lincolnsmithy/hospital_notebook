{
 "cells": [
  {
   "metadata": {},
   "cell_type": "markdown",
   "source": "### CMS Data Notebook",
   "id": "8a1eeea49687d80b"
  },
  {
   "metadata": {},
   "cell_type": "code",
   "source": [
    "import pandas as pd\n",
    "import pointblank as pb\n",
    "import warnings\n",
    "warnings.filterwarnings('ignore')"
   ],
   "id": "ce3c39346b1969a2",
   "outputs": [],
   "execution_count": null
  },
  {
   "metadata": {},
   "cell_type": "code",
   "source": [
    "#columns I care about\n",
    "desired_columns = ['PRVDR_NUM', 'STATE_CD', 'PRVDR_CTGRY_CD', 'CITY_NAME', 'ZIP_CD', 'ST_ADR', 'ELGBLTY_SW']\n",
    "# Read the data\n",
    "df_reduced_cols = pd.read_csv(\"data/Hospital_and_Other_data_Q2_2025.csv\", usecols=desired_columns, low_memory=False)\n",
    "\n",
    "display(df_reduced_cols.head())\n"
   ],
   "id": "e2c1044156ff70f7",
   "outputs": [],
   "execution_count": null
  },
  {
   "metadata": {},
   "cell_type": "code",
   "source": [
    "df = pd.read_csv(\"data/Hospital_and_Other_data_Q2_2025.csv\", low_memory=False)\n",
    "\n",
    "\n",
    "display(pb.col_summary_tbl(df))"
   ],
   "id": "86bf572ecfb70a22",
   "outputs": [],
   "execution_count": null
  }
 ],
 "metadata": {
  "kernelspec": {
   "display_name": "Python 3",
   "language": "python",
   "name": "python3"
  },
  "language_info": {
   "codemirror_mode": {
    "name": "ipython",
    "version": 2
   },
   "file_extension": ".py",
   "mimetype": "text/x-python",
   "name": "python",
   "nbconvert_exporter": "python",
   "pygments_lexer": "ipython2",
   "version": "2.7.6"
  }
 },
 "nbformat": 4,
 "nbformat_minor": 5
}
